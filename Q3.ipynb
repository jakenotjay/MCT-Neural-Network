{
 "cells": [
  {
   "cell_type": "code",
   "execution_count": 1,
   "metadata": {},
   "outputs": [],
   "source": [
    "import numpy as np\n",
    "import math"
   ]
  },
  {
   "cell_type": "markdown",
   "metadata": {},
   "source": [
    "# Analytical Solution"
   ]
  },
  {
   "cell_type": "code",
   "execution_count": 4,
   "metadata": {},
   "outputs": [
    {
     "name": "stdout",
     "output_type": "stream",
     "text": [
      "3.141592653589793\n",
      "4.1887902047863905\n",
      "4.934802200544679\n",
      "5.263789013914325\n",
      "5.167712780049969\n",
      "4.7247659703314016\n",
      "4.058712126416768\n",
      "3.2985089027387064\n",
      "2.550164039877345\n",
      "1.8841038793898994\n",
      "1.3352627688545893\n",
      "0.910628754783283\n",
      "0.5992645293207919\n",
      "0.38144328082330436\n"
     ]
    }
   ],
   "source": [
    "n = np.linspace(2, 15, 14)\n",
    "n=range(2, 16, 1)\n",
    "\n",
    "def analytical_V(n):\n",
    "    gamma_val = math.gamma((n/2) + 1)\n",
    "    \n",
    "    return (np.pi ** (n/2))/ gamma_val\n",
    "\n",
    "for n in n:\n",
    "    print(analytical_V(n))"
   ]
  },
  {
   "cell_type": "markdown",
   "metadata": {},
   "source": [
    "# Monte Carlo Simulation"
   ]
  },
  {
   "cell_type": "code",
   "execution_count": 6,
   "metadata": {},
   "outputs": [
    {
     "ename": "MemoryError",
     "evalue": "Unable to allocate 534. MiB for an array with shape (7, 10000000) and data type float64",
     "output_type": "error",
     "traceback": [
      "\u001b[1;31m---------------------------------------------------------------------------\u001b[0m",
      "\u001b[1;31mMemoryError\u001b[0m                               Traceback (most recent call last)",
      "\u001b[1;32m<ipython-input-6-c2e5cc89e201>\u001b[0m in \u001b[0;36m<module>\u001b[1;34m\u001b[0m\n\u001b[0;32m      6\u001b[0m \u001b[1;33m\u001b[0m\u001b[0m\n\u001b[0;32m      7\u001b[0m \u001b[1;32mfor\u001b[0m \u001b[0mi\u001b[0m \u001b[1;32min\u001b[0m \u001b[0mrange\u001b[0m\u001b[1;33m(\u001b[0m\u001b[1;36m0\u001b[0m\u001b[1;33m,\u001b[0m \u001b[0mlen\u001b[0m\u001b[1;33m(\u001b[0m\u001b[0mn\u001b[0m\u001b[1;33m)\u001b[0m\u001b[1;33m)\u001b[0m\u001b[1;33m:\u001b[0m\u001b[1;33m\u001b[0m\u001b[1;33m\u001b[0m\u001b[0m\n\u001b[1;32m----> 8\u001b[1;33m     \u001b[0mdimensions\u001b[0m \u001b[1;33m=\u001b[0m \u001b[0mnp\u001b[0m\u001b[1;33m.\u001b[0m\u001b[0mzeros\u001b[0m\u001b[1;33m(\u001b[0m\u001b[1;33m[\u001b[0m\u001b[0mint\u001b[0m\u001b[1;33m(\u001b[0m\u001b[0mn\u001b[0m\u001b[1;33m[\u001b[0m\u001b[0mi\u001b[0m\u001b[1;33m]\u001b[0m\u001b[1;33m)\u001b[0m\u001b[1;33m,\u001b[0m \u001b[0mn_pts\u001b[0m\u001b[1;33m]\u001b[0m\u001b[1;33m)\u001b[0m\u001b[1;33m\u001b[0m\u001b[1;33m\u001b[0m\u001b[0m\n\u001b[0m\u001b[0;32m      9\u001b[0m     \u001b[1;32mfor\u001b[0m \u001b[0mj\u001b[0m \u001b[1;32min\u001b[0m \u001b[0mrange\u001b[0m\u001b[1;33m(\u001b[0m\u001b[0mlen\u001b[0m\u001b[1;33m(\u001b[0m\u001b[0mdimensions\u001b[0m\u001b[1;33m)\u001b[0m\u001b[1;33m)\u001b[0m\u001b[1;33m:\u001b[0m\u001b[1;33m\u001b[0m\u001b[1;33m\u001b[0m\u001b[0m\n\u001b[0;32m     10\u001b[0m         \u001b[0mdimensions\u001b[0m\u001b[1;33m[\u001b[0m\u001b[0mj\u001b[0m\u001b[1;33m]\u001b[0m \u001b[1;33m=\u001b[0m \u001b[0mnp\u001b[0m\u001b[1;33m.\u001b[0m\u001b[0mrandom\u001b[0m\u001b[1;33m.\u001b[0m\u001b[0mrandom\u001b[0m\u001b[1;33m(\u001b[0m\u001b[0mn_pts\u001b[0m\u001b[1;33m)\u001b[0m\u001b[1;33m\u001b[0m\u001b[1;33m\u001b[0m\u001b[0m\n",
      "\u001b[1;31mMemoryError\u001b[0m: Unable to allocate 534. MiB for an array with shape (7, 10000000) and data type float64"
     ]
    }
   ],
   "source": [
    "n_pts = 10000000\n",
    "n = np.linspace(2, 15, 14)\n",
    "\n",
    "cnt = np.zeros(len(n))\n",
    "volume = np.zeros(len(n))\n",
    "\n",
    "# for each number of dimensions\n",
    "for i in range(0, len(n)):\n",
    "    # create two dimension array of n x n_pts length\n",
    "    dimensions = np.zeros([int(n[i]), n_pts])\n",
    "    # generate list of random numbers for each dimension\n",
    "    for j in range(len(dimensions)):\n",
    "        dimensions[j] = np.random.random(n_pts)\n",
    "        \n",
    "    # loop over every row\n",
    "    for k in range(n_pts):\n",
    "        r_squared = 0\n",
    "        # for each column add the dimension squared\n",
    "        for l in range(int(n[i])):\n",
    "            r_squared += dimensions[l, k] ** 2\n",
    "        \n",
    "        # if r squared for that row is less than unit value it is in circle\n",
    "        if(r_squared < 1.0):\n",
    "            cnt[i] += 1\n",
    "\n",
    "# for each dimension we are finding value of\n",
    "# calc volume by cnt divided by total points\n",
    "# multiplied by number of positive and negative axes 2^n\n",
    "for i in range(len(volume)):\n",
    "    volume[i] = cnt[i]/n_pts * (2**n[i])\n",
    "    \n",
    "print(volume)\n",
    "        "
   ]
  }
 ],
 "metadata": {
  "kernelspec": {
   "display_name": "Python 3",
   "language": "python",
   "name": "python3"
  },
  "language_info": {
   "codemirror_mode": {
    "name": "ipython",
    "version": 3
   },
   "file_extension": ".py",
   "mimetype": "text/x-python",
   "name": "python",
   "nbconvert_exporter": "python",
   "pygments_lexer": "ipython3",
   "version": "3.8.3"
  }
 },
 "nbformat": 4,
 "nbformat_minor": 4
}
